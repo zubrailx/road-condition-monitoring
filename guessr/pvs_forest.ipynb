{
 "cells": [
  {
   "cell_type": "code",
   "execution_count": 1,
   "metadata": {},
   "outputs": [
    {
     "name": "stderr",
     "output_type": "stream",
     "text": [
      "/tmp/ipykernel_1495944/1764216332.py:1: DeprecationWarning: \n",
      "Pyarrow will become a required dependency of pandas in the next major release of pandas (pandas 3.0),\n",
      "(to allow more performant data types, such as the Arrow string type, and better interoperability with other libraries)\n",
      "but was not found to be installed on your system.\n",
      "If this would cause problems for you,\n",
      "please provide us feedback at https://github.com/pandas-dev/pandas/issues/54466\n",
      "        \n",
      "  import pandas\n"
     ]
    }
   ],
   "source": [
    "import pandas\n",
    "import numpy\n",
    "from scipy.signal import iirfilter, lfilter\n",
    "\n",
    "tick = 25000\n",
    "window = 128\n",
    "slide = 0.5\n"
   ]
  },
  {
   "cell_type": "code",
   "execution_count": 2,
   "metadata": {},
   "outputs": [],
   "source": [
    "import numpy as np\n",
    "\n",
    "# signal processing for input batch\n",
    "fs = 1000000 / tick\n",
    "filter_N = 4\n",
    "filter_freq = 10\n",
    "\n",
    "# noice reduction can be performed optimized on all input (but not only on window), no difference in implementation\n",
    "def reduce_noice(acDf: pandas.DataFrame, gyDf: pandas.DataFrame):\n",
    "    b, a = iirfilter(filter_N, Wn=filter_freq, fs=fs, btype=\"low\", ftype=\"butter\")\n",
    "\n",
    "    acX = lfilter(b, a, acDf.x)\n",
    "    acY = lfilter(b, a, acDf.y)\n",
    "    acZ = lfilter(b, a, acDf.z)\n",
    "\n",
    "    gyX = lfilter(b, a, gyDf.x)\n",
    "    gyY = lfilter(b, a, gyDf.y)\n",
    "    gyZ = lfilter(b, a, gyDf.z)\n",
    "\n",
    "    acDf1 = acDf.copy()\n",
    "    gyDf1 = gyDf.copy()\n",
    "    \n",
    "    acDf1[\"x\"] = acX\n",
    "    acDf1[\"y\"] = acY\n",
    "    acDf1[\"z\"] = acZ\n",
    "\n",
    "    gyDf1[\"x\"] = gyX\n",
    "    gyDf1[\"y\"] = gyY\n",
    "    gyDf1[\"z\"] = gyZ\n",
    "\n",
    "    return (acDf1, gyDf1)\n",
    "    # acil = (acXil**2 + acYil**2 + acZil**2) ** 0.5\n",
    "    # gyil = (gyXil**2 + gyYil**2 + gyZil**2) ** 0.5\n",
    "\n",
    "\n",
    "# compute magnitude on all axis, apply fast fft transformation, \n",
    "# get 32 elements of each (accelerometer, gyroscope), max acceleromet, max gyroscope\n",
    "def extract_features(acDf: pandas.DataFrame, gyDf: pandas.DataFrame):\n",
    "    acM = (acDf[\"x\"] ** 2 + acDf[\"y\"] ** 2 + acDf[\"z\"] ** 2) ** 0.5\n",
    "    gyM = (gyDf[\"x\"] ** 2 + gyDf[\"y\"] ** 2 + gyDf[\"z\"] ** 2) ** 0.5\n",
    "    maxAc = max(acM)\n",
    "    maxGy = max(gyM)\n",
    "\n",
    "    acFft = np.fft.fft(acM)\n",
    "    gyFft = np.fft.fft(gyM)\n",
    "    # frequencies = np.fft.fftfreq(window, 1/fs)\n",
    "    maxFB = int(window * filter_freq / fs)\n",
    "    \n",
    "    arrays = (np.abs(acFft[:maxFB]), np.abs(gyFft[:maxFB]), [maxAc, maxGy])\n",
    "    features = np.concatenate(arrays)\n",
    "    return features\n",
    "\n"
   ]
  },
  {
   "cell_type": "code",
   "execution_count": 4,
   "metadata": {},
   "outputs": [],
   "source": [
    "# reduce noice, extract features (with fft), write\n",
    "import matplotlib.pyplot as plt\n",
    "import pandas as pd\n",
    "import os\n",
    "import json\n",
    "\n",
    "raw_dir = \"data/pvs-points/raw\"\n",
    "output_dir = \"data/pvs-forest\"\n",
    "\n",
    "if not os.path.exists(output_dir):\n",
    "    os.makedirs(output_dir)\n",
    "\n",
    "entry_fpaths = [os.path.join(raw_dir, x) for x in os.listdir(raw_dir)]\n",
    "out_file = os.path.join(output_dir, \"features-predictions.csv\")\n",
    "\n",
    "def read_entry(entry_fpath):\n",
    "  with open(entry_fpath) as file:\n",
    "      data = json.load(file)\n",
    "      acDf = pd.DataFrame.from_records(data[\"accelerometer\"])\n",
    "      gyDf = pd.DataFrame.from_records(data[\"gyroscope\"])\n",
    "      gpsDf = pd.Series(data[\"gps\"])\n",
    "      prediction = data[\"prediction\"]\n",
    "      return (acDf, gyDf, gpsDf, prediction)\n",
    "\n",
    "features_predictions = []\n",
    "\n",
    "for entry_fpath in entry_fpaths:\n",
    "    acDf, gyDf, gpsDf, prediction = read_entry(entry_fpath)\n",
    "    acDfn, gyDfn = reduce_noice(acDf, gyDf)\n",
    "    features = extract_features(acDf, gyDf)\n",
    "    features_predictions.append([*features, prediction])\n",
    "    \n",
    "features_cnt = len(features_predictions[0])\n",
    "features_prediction_df_columns = [str(i) for i in range(0, features_cnt - 1)] + [\"prediction\"]\n",
    "features_prediction_df = pd.DataFrame(features_predictions, columns=features_prediction_df_columns)\n",
    "features_prediction_df.to_csv(out_file, index=False)"
   ]
  },
  {
   "cell_type": "code",
   "execution_count": 5,
   "metadata": {},
   "outputs": [
    {
     "name": "stdout",
     "output_type": "stream",
     "text": [
      "prediction    1.000000\n",
      "0             0.694820\n",
      "64            0.667682\n",
      "65            0.626154\n",
      "32            0.566300\n",
      "                ...   \n",
      "3             0.438198\n",
      "34            0.432054\n",
      "2             0.413093\n",
      "33            0.335962\n",
      "1             0.333684\n",
      "Name: prediction, Length: 67, dtype: float64\n"
     ]
    }
   ],
   "source": [
    "# select only featues with least correlation\n",
    "from sklearn.feature_selection import SelectKBest\n",
    "from sklearn.feature_selection import f_classif\n",
    "\n",
    "features_prediction_df = pd.read_csv(out_file)\n",
    "\n",
    "corr_matrix = features_prediction_df.corr()\n",
    "corr_with_prediction = corr_matrix['prediction']\n",
    "\n",
    "\n",
    "correlations = corr_with_prediction.abs().sort_values(ascending=False)\n",
    "print(correlations)\n",
    "\n",
    "# select only top k features\n",
    "k = 24\n",
    "selected_feature_indexes = correlations[1:k+1].index\n",
    "\n",
    "out_features_predictions_selected_fpath = os.path.join(output_dir, f\"features-predictions-selected-{k}.csv\")\n",
    "features_prediction_df_selected = features_prediction_df[[*selected_feature_indexes, 'prediction']]\n",
    "features_prediction_df_selected.to_csv(out_features_predictions_selected_fpath, index=False)\n",
    "\n",
    "with open(os.path.join(\"model\", f\"selected-features-{k}.json\"), \"w\") as file:\n",
    "  json.dump(list(map(int, selected_feature_indexes)), file)\n"
   ]
  },
  {
   "cell_type": "code",
   "execution_count": 49,
   "metadata": {},
   "outputs": [],
   "source": [
    "from sklearn.ensemble import RandomForestRegressor\n",
    "from sklearn.model_selection import train_test_split\n",
    "\n",
    "data = pd.read_csv(out_features_predictions_selected_fpath)\n",
    "clf = RandomForestRegressor(criterion='squared_error', max_depth=5, min_samples_split=2, min_samples_leaf=1)\n",
    "\n",
    "data_shuffled = features_prediction_df_selected.sample(frac=1)\n",
    "\n",
    "X = data_shuffled.drop(['prediction'], axis=1)\n",
    "y = data_shuffled['prediction']\n",
    "\n",
    "X_train, X_test, y_train, y_test = train_test_split(X, y, test_size=0.3, random_state=42)\n",
    "\n",
    "clf = clf.fit(X_train.values, y_train)"
   ]
  },
  {
   "cell_type": "code",
   "execution_count": 50,
   "metadata": {},
   "outputs": [],
   "source": [
    "import pickle\n",
    "\n",
    "model_dir = \"model\"\n",
    "\n",
    "if not os.path.exists(model_dir):\n",
    "    os.makedirs(model_dir)\n",
    "\n",
    "with open(os.path.join(model_dir, f\"forest-features-{k}.pickle\"), \"wb\") as file:\n",
    "    pickle.dump(clf, file)"
   ]
  },
  {
   "cell_type": "code",
   "execution_count": 51,
   "metadata": {},
   "outputs": [],
   "source": [
    "from sklearn.linear_model import LinearRegression\n",
    "import sklearn.metrics as metrics\n",
    "\n",
    "def regression_results(y_pred, y_true):\n",
    "    # Regression metrics\n",
    "    r2=metrics.r2_score(y_true, y_pred)\n",
    "    explained_variance=metrics.explained_variance_score(y_true, y_pred)\n",
    "    mean_absolute_error=metrics.mean_absolute_error(y_true, y_pred)\n",
    "    median_absolute_error=metrics.median_absolute_error(y_true, y_pred)\n",
    "    mse=metrics.mean_squared_error(y_true, y_pred) \n",
    "    mean_squared_log_error=metrics.mean_squared_log_error(y_true, y_pred)\n",
    "\n",
    "    print('R2: ', round(r2,4)) \n",
    "    print('Explained variance (biased): ', round(explained_variance,4)) # if mean(error)=0, then R2 = explained variance score\n",
    "    print('MSE: ', round(mse,4))\n",
    "    print('MAE: ', round(mean_absolute_error,4))\n",
    "    print('RMSE: ', round(np.sqrt(mse),4))\n",
    "    print('MSLE: ', round(mean_squared_log_error,4)) # mean squared logarithmic error\n",
    "\n",
    "def visualize_sorted_results(y_pred: numpy.array, y_true: numpy.array):\n",
    "    y_true_ids = y_true.argsort()\n",
    "    y_true_sorted = y_true[y_true_ids[::-1]]\n",
    "    y_pred_sorted = y_pred[y_true_ids[::-1]]\n",
    "    l = len(y_true_sorted)\n",
    "\n",
    "    plt.figure().set_figwidth(20)\n",
    "    plt.scatter(range(0, l), y_true_sorted, label=\"True\", s=5)\n",
    "    plt.scatter(range(0, l), y_pred_sorted, label=\"Predicted\", s=1)\n",
    "\n",
    "def distribution_results(y_pred: numpy.array, y_true: numpy.array):\n",
    "    total = 10\n",
    "    step = 1 / total\n",
    "    for i in range(0, total + 1):\n",
    "        lower_bound = i * step\n",
    "        upper_bound = (i + 1) * step\n",
    "        y_true_mask = (y_true >= lower_bound) & (y_true < upper_bound)\n",
    "        y_pred_dist = [0] * total\n",
    "        for j in range(0, len(y_true)):\n",
    "            if y_true_mask[j] == False:\n",
    "                continue\n",
    "            bucket = int((y_pred[j] - 0.001) / step)\n",
    "            y_pred_dist[bucket] += 1\n",
    "\n",
    "        cnt = y_true_mask.sum()\n",
    "        if cnt != 0:\n",
    "            rounded_distribution = [round(v/cnt, 3) for v in y_pred_dist]\n",
    "            print(f\"[{round(lower_bound,2)}...{round(upper_bound, 2)}]={cnt}:\\t{'/'.join(map(str, rounded_distribution))}\")"
   ]
  },
  {
   "cell_type": "code",
   "execution_count": 57,
   "metadata": {},
   "outputs": [
    {
     "name": "stdout",
     "output_type": "stream",
     "text": [
      "R2:  0.6736\n",
      "Explained variance (biased):  0.6736\n",
      "MSE:  0.0473\n",
      "MAE:  0.1591\n",
      "RMSE:  0.2176\n",
      "MSLE:  0.0273\n",
      "[0.0...0.1]=838:\t0.037/0.018/0.158/0.652/0.109/0.002/0.007/0.0/0.002/0.016\n",
      "[0.5...0.6]=1517:\t0.005/0.001/0.078/0.707/0.145/0.004/0.013/0.007/0.008/0.031\n",
      "[1.0...1.1]=1642:\t0.001/0.001/0.002/0.01/0.03/0.003/0.009/0.007/0.034/0.903\n"
     ]
    },
    {
     "data": {
      "image/png": "[encoded data removed]",
      "text/plain": [
       "<Figure size 2000x480 with 1 Axes>"
      ]
     },
     "metadata": {},
     "output_type": "display_data"
    }
   ],
   "source": [
    "with open(os.path.join(model_dir, f\"tree-cart-features-{k}.pickle\"), \"rb\") as file:\n",
    "  clf = pickle.load(file)\n",
    "  y_predicted = clf.predict(X_test.values)\n",
    "\n",
    "  regression_results(y_predicted, y_test.to_numpy())\n",
    "  visualize_sorted_results(y_predicted, y_test.to_numpy())\n",
    "  distribution_results(y_predicted, y_test.to_numpy())"
   ]
  }
 ],
 "metadata": {
  "kernelspec": {
   "display_name": "jupyter",
   "language": "python",
   "name": "python3"
  },
  "language_info": {
   "codemirror_mode": {
    "name": "ipython",
    "version": 3
   },
   "file_extension": ".py",
   "mimetype": "text/x-python",
   "name": "python",
   "nbconvert_exporter": "python",
   "pygments_lexer": "ipython3",
   "version": "3.11.8"
  }
 },
 "nbformat": 4,
 "nbformat_minor": 2
}

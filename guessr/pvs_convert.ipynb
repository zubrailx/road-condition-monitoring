{
 "cells": [
  {
   "cell_type": "code",
   "execution_count": 6,
   "metadata": {},
   "outputs": [],
   "source": [
    "input_dir = \"data/pvs\"\n",
    "output_dir = \"data/pvs-converted\""
   ]
  },
  {
   "cell_type": "code",
   "execution_count": 7,
   "metadata": {},
   "outputs": [],
   "source": [
    "import os\n",
    "import pandas as pd\n",
    "\n",
    "label_fname = \"dataset_labels.csv\"\n",
    "left_fname = \"dataset_gps_mpu_left.csv\"\n",
    "right_fname = \"dataset_gps_mpu_right.csv\"\n",
    "\n",
    "mpu_cols = [\"timestamp\",\"acc_x_dashboard\",\"acc_y_dashboard\",\"acc_z_dashboard\",\"gyro_x_dashboard\",\"gyro_y_dashboard\",\"gyro_z_dashboard\",\"timestamp_gps\",\"latitude\",\"longitude\"]\n",
    "label_cols = [\"good_road_left\",\"regular_road_left\",\"bad_road_left\",\"good_road_right\",\"regular_road_right\",\"bad_road_right\"]\n",
    "\n",
    "label_left_cols = [\"good_road_left\",\"regular_road_left\",\"bad_road_left\"]\n",
    "label_right_cols = [\"good_road_right\",\"regular_road_right\",\"bad_road_right\"]\n",
    "\n",
    "def list_subfolders(dirname):\n",
    "  subfolders= [f.path for f in os.scandir(dirname) if f.is_dir()]\n",
    "  return subfolders\n",
    "\n",
    "subdirs = list_subfolders(input_dir)\n"
   ]
  },
  {
   "cell_type": "code",
   "execution_count": 8,
   "metadata": {},
   "outputs": [
    {
     "name": "stdout",
     "output_type": "stream",
     "text": [
      "(144036, 6) (144036, 10) (144036, 10) (144036, 13) (144036, 13)\n",
      "(124684, 6) (124684, 10) (124684, 10) (124684, 13) (124684, 13)\n",
      "(105816, 6) (105816, 10) (105816, 10) (105816, 13) (105816, 13)\n",
      "(132492, 6) (132492, 10) (132492, 10) (132492, 13) (132492, 13)\n",
      "(133877, 6) (133877, 10) (133877, 10) (133877, 13) (133877, 13)\n",
      "(96279, 6) (96279, 10) (96279, 10) (96279, 13) (96279, 13)\n",
      "(128548, 6) (128548, 10) (128548, 10) (128548, 13) (128548, 13)\n",
      "(123618, 6) (123618, 10) (123618, 10) (123618, 13) (123618, 13)\n",
      "(91555, 6) (91555, 10) (91555, 10) (91555, 13) (91555, 13)\n"
     ]
    }
   ],
   "source": [
    "filtered_left_postfix = \"left-filtered\"\n",
    "filtered_right_postfix = \"right-filtered\"\n",
    "\n",
    "def filter_input_cols(base, dirname):\n",
    "  dir = os.path.join(base, dirname)\n",
    "  out_left_file_path = os.path.join(output_dir, f\"{dirname}-{filtered_left_postfix}.csv\")\n",
    "  out_right_file_path = os.path.join(output_dir, f\"{dirname}-{filtered_right_postfix}.csv\")\n",
    "  label_file_path = os.path.join(dir, label_fname)\n",
    "  left_file_path = os.path.join(dir, left_fname)\n",
    "  right_file_path = os.path.join(dir, right_fname)\n",
    "\n",
    "  label_df = pd.read_csv(label_file_path, usecols=label_cols)\n",
    "  left_df = pd.read_csv(left_file_path, usecols=mpu_cols)\n",
    "  right_df = pd.read_csv(right_file_path, usecols=mpu_cols)\n",
    "\n",
    "  left_out_df = pd.concat([left_df, label_df[label_left_cols]], axis=1).rename(\n",
    "    columns={\"good_road_left\": \"good_road\", \"regular_road_left\": \"regular_road\", \"bad_road_left\": \"bad_road\"})\n",
    "  \n",
    "  right_out_df = pd.concat([right_df, label_df[label_right_cols]], axis=1).rename(\n",
    "    columns={\"good_road_right\": \"good_road\", \"regular_road_right\": \"regular_road\", \"bad_road_right\": \"bad_road\"})\n",
    "  \n",
    "  left_out_df.to_csv(out_left_file_path, index=False)\n",
    "  right_out_df.to_csv(out_right_file_path, index=False)\n",
    "\n",
    "  print(label_df.shape, left_df.shape, right_df.shape, left_out_df.shape, right_out_df.shape)\n",
    "\n",
    "\n",
    "for subdir in subdirs:\n",
    "  base = os.path.dirname(subdir)\n",
    "  dir = os.path.basename(subdir)\n",
    "  filter_input_cols(base, dir)"
   ]
  },
  {
   "cell_type": "code",
   "execution_count": 9,
   "metadata": {},
   "outputs": [
    {
     "name": "stdout",
     "output_type": "stream",
     "text": [
      "(144036, 13) (144036, 13)\n",
      "(124684, 13) (124684, 13)\n",
      "(105816, 13) (105816, 13)\n",
      "(132492, 13) (132492, 13)\n",
      "(133877, 13) (133877, 13)\n",
      "(96279, 13) (96279, 13)\n",
      "(128548, 13) (128548, 13)\n",
      "(123618, 13) (123618, 13)\n",
      "(91555, 13) (91555, 13)\n"
     ]
    }
   ],
   "source": [
    "import numpy as np\n",
    "\n",
    "normalized_left_postfix = \"left-normalized\"\n",
    "normalized_right_postfix = \"right-normalized\"\n",
    "\n",
    "# accelerometer data := accelerometer data - avg(accelerometer_z)\n",
    "def normalize(base, dirname):\n",
    "  left_file_path = os.path.join(output_dir, f\"{dirname}-{filtered_left_postfix}.csv\")\n",
    "  right_file_path = os.path.join(output_dir, f\"{dirname}-{filtered_right_postfix}.csv\")\n",
    "  out_left_normalized_path = os.path.join(output_dir, f\"{dirname}-{normalized_left_postfix}.csv\")\n",
    "  out_right_normalized_path = os.path.join(output_dir, f\"{dirname}-{normalized_right_postfix}.csv\")\n",
    "\n",
    "  left_df = pd.read_csv(left_file_path)\n",
    "  right_df = pd.read_csv(right_file_path)\n",
    "\n",
    "  left_acc_z_mean = left_df.loc[:, \"acc_z_dashboard\"].mean()\n",
    "  right_acc_z_mean = right_df.loc[:, \"acc_z_dashboard\"].mean()\n",
    "\n",
    "  left_df[\"acc_z_dashboard\"] = left_df[\"acc_z_dashboard\"] - left_acc_z_mean\n",
    "  right_df[\"acc_z_dashboard\"] = right_df[\"acc_z_dashboard\"] - right_acc_z_mean\n",
    "\n",
    "  left_df[\"timestamp\"] = (left_df[\"timestamp\"] * 1000000).astype(np.int64)\n",
    "  right_df[\"timestamp\"] = (right_df[\"timestamp\"] * 1000000).astype(np.int64)\n",
    "  left_df[\"timestamp_gps\"] = (left_df[\"timestamp_gps\"] * 1000000).astype(np.int64)\n",
    "  right_df[\"timestamp_gps\"] = (right_df[\"timestamp_gps\"] * 1000000).astype(np.int64)\n",
    "\n",
    "  left_df.to_csv(out_left_normalized_path, index=False)\n",
    "  right_df.to_csv(out_right_normalized_path, index=False)\n",
    "\n",
    "  print(left_df.shape, right_df.shape)\n",
    "\n",
    "\n",
    "for subdir in subdirs:\n",
    "  base = os.path.dirname(subdir)\n",
    "  dir = os.path.basename(subdir)\n",
    "  normalize(base, dir)"
   ]
  }
 ],
 "metadata": {
  "kernelspec": {
   "display_name": "jupyter",
   "language": "python",
   "name": "python3"
  },
  "language_info": {
   "codemirror_mode": {
    "name": "ipython",
    "version": 3
   },
   "file_extension": ".py",
   "mimetype": "text/x-python",
   "name": "python",
   "nbconvert_exporter": "python",
   "pygments_lexer": "ipython3",
   "version": "3.12.3"
  }
 },
 "nbformat": 4,
 "nbformat_minor": 2
}
